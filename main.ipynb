{
 "metadata": {
  "language_info": {
   "codemirror_mode": {
    "name": "ipython",
    "version": 3
   },
   "file_extension": ".py",
   "mimetype": "text/x-python",
   "name": "python",
   "nbconvert_exporter": "python",
   "pygments_lexer": "ipython3",
   "version": "3.8.3-final"
  },
  "orig_nbformat": 2,
  "kernelspec": {
   "name": "python3",
   "display_name": "Python 3"
  }
 },
 "nbformat": 4,
 "nbformat_minor": 2,
 "cells": [
  {
   "cell_type": "code",
   "execution_count": null,
   "metadata": {},
   "outputs": [],
   "source": [
    "\n",
    "import math\n",
    "import pandas as pd\n",
    "import kerouz as kr\n",
    "import yongyizh as yy\n",
    "from keras.preprocessing.text import Tokenizer # https://keras-cn.readthedocs.io/en/latest/preprocessing/text/\n",
    "from keras.preprocessing import sequence\n",
    "from keras.utils import to_categorical\n",
    "\n",
    "if __name__=='__main__':\n",
    "\n",
    "    # 可调参数\n",
    "    offset=2 # l1=l3=l2+offset. 其中l1:截取长度, l2:平均长度, l3:训练长度\n",
    "    rm_symbols='!\"#$%&()*+,-./:;<=>?@[\\\\]^_`{|}~\\t\\n'\n",
    "\n",
    "    # 读数据集和字典\n",
    "    data=pd.read_csv('Train.csv')\n",
    "    X_train=data['TEXT'].values\n",
    "    Y_train=data['Label'].values\n",
    "    Y_train=to_categorical(Y_train)\n",
    "    f='glove.6B.50d.txt'\n",
    "\n",
    "    # 训练集去除特殊符号及stopwords\n",
    "    X_rm=yy.corpus_pre(X_train)\n",
    "\n",
    "    # 分词及序列化\n",
    "    tokenizer = Tokenizer(filters=rm_symbols, split=\" \", lower=True) # filters：需要去除的符号 lower：转换成小写\n",
    "    tokenizer.fit_on_texts(X_rm) # Tokenizer读取去除特殊符号的训练集,结果保存在tokenizer句柄内\n",
    "    X_seq=tokenizer.texts_to_sequences(X_rm) # 将数据集序列化就是把句中每一个单词编号\n",
    "\n",
    "    # 填充与截断\n",
    "    l2 = math.ceil(sum([len(s.split(\" \")) for s in X_rm])/len(X_rm)) # l2:平均长度\n",
    "    X_pd=sequence.pad_sequences(X_seq,maxlen=l2+offset,padding='post') # 填充与截断序列，就是使得每句话对应的序列长度都是'maxlen'\n",
    "    X_ind=tokenizer.word_index\n",
    "\n",
    "    # 初始化字典\n",
    "    lookup_dict=yy.dict_pre(f)\n",
    "\n",
    "    # 根据字典生成weightMatrix\n",
    "    W=yy.lookup(X_ind,lookup_dict)\n",
    "\n",
    "    # 训练\n",
    "    model=kr.model_training(len(X_ind)+1, W, l2+offset, X_pd, Y_train, embed_dim=50, epochs=5, )\n",
    "    print(model.predict_classes(X_pd[1:13])) #test on some sentences in the train data set"
   ]
  }
 ]
}