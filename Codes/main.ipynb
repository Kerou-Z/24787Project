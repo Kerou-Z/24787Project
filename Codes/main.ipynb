{
 "cells": [
  {
   "cell_type": "code",
   "execution_count": 1,
   "metadata": {},
   "outputs": [],
   "source": [
    "import math\n",
    "import pandas as pd\n",
    "import kerouz as kr\n",
    "import yongyizh as yy\n",
    "import numpy as np\n",
    "from keras.preprocessing.text import Tokenizer # https://keras-cn.readthedocs.io/en/latest/preprocessing/text/\n",
    "from keras.utils import to_categorical\n"
   ]
  },
  {
   "cell_type": "code",
   "execution_count": 2,
   "metadata": {},
   "outputs": [],
   "source": [
    "if __name__=='__main__':\n",
    "\n",
    "    # 可调参数\n",
    "    offset=2 # l1=l3=l2+offset. 其中l1:截取长度, l2:平均长度, l3:训练长度\n",
    "    rm_symbols='!\"#$%&()*+,-./:;<=>?@[\\\\]^_`{|}~\\t\\n'\n",
    "    embedding_dim=50\n"
   ]
  },
  {
   "cell_type": "code",
   "execution_count": 5,
   "metadata": {},
   "outputs": [],
   "source": [
    "    # 读数据集和字典\n",
    "    data_train=pd.read_csv('../dataset/Train.csv')\n",
    "    X_train=data_train['TEXT'].values\n",
    "    Y_train=data_train['Label'].values\n",
    "    Y_train=to_categorical(Y_train)\n",
    "    \n",
    "    data_test=pd.read_csv('../dataset/Test.csv')\n",
    "    X_test=data_test['TEXT'].values\n",
    "    \n",
    "    f='../dataset/glove.6B.50d.txt'\n",
    "    \n",
    "    emoji_map = pd.read_csv('../dataset/Mapping.csv')"
   ]
  },
  {
   "cell_type": "code",
   "execution_count": 6,
   "metadata": {},
   "outputs": [],
   "source": [
    "    # 训练集去除特殊符号及stopwords\n",
    "    X_rm=yy.corpus_pre(X_train)\n",
    "\n",
    "    # 分词\n",
    "    tokenizer = Tokenizer(filters=rm_symbols, split=\" \", lower=True) # filters：需要去除的符号 lower：转换成小写\n",
    "    tokenizer.fit_on_texts(X_rm) # Tokenizer读取去除特殊符号的训练集,结果保存在tokenizer句柄内\n",
    "    \n",
    "    # 序列化,填充与截断\n",
    "    l2 = math.ceil(sum([len(s.split(\" \")) for s in X_rm])/len(X_rm)) # l2:平均长度\n",
    "    l1 = l2+offset #截断长度\n",
    "    X_pd,tokenizer = kr.toknz(X_rm, l1,tokenizer)"
   ]
  },
  {
   "cell_type": "code",
   "execution_count": 7,
   "metadata": {},
   "outputs": [],
   "source": [
    "    #Dict that allocate an id(integer) to every word\n",
    "    ind_dict=tokenizer.word_index\n",
    "\n",
    "    #Dict that allocate an word vector to every word\n",
    "    lookup_dict=yy.dict_pre(f)\n",
    "\n",
    "    # 根据字典生成weightMatrix\n",
    "    W=yy.lookup(ind_dict,lookup_dict,embedding_dim)\n"
   ]
  },
  {
   "cell_type": "code",
   "execution_count": 8,
   "metadata": {},
   "outputs": [
    {
     "output_type": "stream",
     "name": "stdout",
     "text": [
      "Model: \"sequential\"\n",
      "_________________________________________________________________\n",
      "Layer (type)                 Output Shape              Param #   \n",
      "=================================================================\n",
      "embedding (Embedding)        (None, 12, 50)            4479500   \n",
      "_________________________________________________________________\n",
      "lstm (LSTM)                  (None, 12, 128)           91648     \n",
      "_________________________________________________________________\n",
      "lstm_1 (LSTM)                (None, 128)               131584    \n",
      "_________________________________________________________________\n",
      "dense (Dense)                (None, 20)                2580      \n",
      "=================================================================\n",
      "Total params: 4,705,312\n",
      "Trainable params: 4,705,312\n",
      "Non-trainable params: 0\n",
      "_________________________________________________________________\n",
      "Epoch 1/5\n",
      "465/465 [==============================] - 30s 64ms/step - loss: 2.5054 - accuracy: 0.2708 - val_loss: 2.3092 - val_accuracy: 0.3098\n",
      "Epoch 2/5\n",
      "465/465 [==============================] - 29s 63ms/step - loss: 2.2378 - accuracy: 0.3318 - val_loss: 2.2242 - val_accuracy: 0.3340\n",
      "Epoch 3/5\n",
      "465/465 [==============================] - 28s 60ms/step - loss: 2.0941 - accuracy: 0.3726 - val_loss: 2.2190 - val_accuracy: 0.3412\n",
      "Epoch 4/5\n",
      "465/465 [==============================] - 28s 61ms/step - loss: 1.9140 - accuracy: 0.4226 - val_loss: 2.2334 - val_accuracy: 0.3391\n",
      "Epoch 5/5\n",
      "465/465 [==============================] - 29s 62ms/step - loss: 1.6927 - accuracy: 0.4860 - val_loss: 2.3543 - val_accuracy: 0.3206\n",
      "2188/2188 [==============================] - 8s 4ms/step - loss: 1.5208 - accuracy: 0.5464\n",
      "WARNING:tensorflow:From <ipython-input-8-a2eea6f90e1f>:3: Sequential.predict_classes (from tensorflow.python.keras.engine.sequential) is deprecated and will be removed after 2021-01-01.\n",
      "Instructions for updating:\n",
      "Please use instead:* `np.argmax(model.predict(x), axis=-1)`,   if your model does multi-class classification   (e.g. if it uses a `softmax` last-layer activation).* `(model.predict(x) > 0.5).astype(\"int32\")`,   if your model does binary classification   (e.g. if it uses a `sigmoid` last-layer activation).\n",
      "[ 1  2  3  3  7  5  6  2  7 15  9  4]\n"
     ]
    }
   ],
   "source": [
    "    # 训练\n",
    "    model=kr.model_training(len(ind_dict)+1, W, l2+offset, X_pd, Y_train, embed_dim=embedding_dim, epochs=5)\n",
    "    print(model.predict_classes(X_pd[1:13])) #test on some sentences in the train data set"
   ]
  },
  {
   "cell_type": "markdown",
   "metadata": {},
   "source": [
    "## Predict on test set"
   ]
  },
  {
   "cell_type": "code",
   "execution_count": 9,
   "metadata": {
    "scrolled": true
   },
   "outputs": [
    {
     "output_type": "stream",
     "name": "stdout",
     "text": [
      "❤\nTrek Remedy 9.8 ️ #trekwomen @ Town Run Trail Park - Indy Parks and Recreation\n\n😍\nHAPPY BIRTHDAY TO MY DAMN SISTA Loyalty makes our bond special! She's always there when I need…\n\n❤\nNew red wine love thank you for the recommendation @user\n\n❤\nHappy birthday best friend. @ Main Street Burgers\n\n😂\nAs I grow older I pay less attention to what men say. I just watch what they do! happy #tgif…\n\n✨\nThank you @user and @user for such an amazing shoot! Can't wait to see the images …\n\n😍\nThese two @ Gas Works Park\n\n😍\nLoving this sassy cut and color! #ohanahairsalon #Nashville #colorandcut #shortstyle #615…\n\n❤\nPure #happiness @user ️ @ Washington Dulles International Airport\n\n❤\nI miss the people I peaked with @ Peek N Peak Resort\n\n✨\nFamily portrait @ Silver Bay Marina\n\n😂\nPartners in crime. #stagemanagers #FirstDateCLT #openingnight @user @ Booth Playhouse…\n\n❤\nIt's been too long (peep the fathead in the back) @ Mount Saint Mary…\n\n😍\nme beautiful d8 @ The Greene Turtle Newark De.\n\n💙\nWe're thankful for our @user family#thanksgiving #miamibiz #barlop…\n\n😍\n@ Disney Springs\n\n😎\nOops! Vacation not yet totally over. Overnight in LA. Went around town with the mga batan.on…\n\n😂\n@ Fort Worth, Texas\n\n❤\nToday is Parent's Day. Wishing my Mami y Papi a wonderful day in Heaven. ️ you miss you.…\n\n😂\nThis is what I get when I ask for him to take a picture with me. I needed to pick up a letter…\n\n😍\n... #williamspartyrentals #wedding #sanjose #williamssj #behindthescenes @ Cinnabar Hills Golf…\n\n"
     ]
    }
   ],
   "source": [
    "    # Prediction on test set\n",
    "    X_test_rm = yy.corpus_pre(X_test)\n",
    "    X_test_pd,_ = kr.toknz(X_test_rm, l1,tokenizer)\n",
    "    label_test = model.predict_classes(X_test_pd)\n",
    "    for i in range(500, 521, 1):\n",
    "        print(emoji_map['emoticons'][label_test[i]])\n",
    "        print(X_test[i])"
   ]
  },
  {
   "cell_type": "markdown",
   "metadata": {},
   "source": [
    "## Predict on user input"
   ]
  },
  {
   "cell_type": "code",
   "execution_count": 10,
   "metadata": {},
   "outputs": [
    {
     "output_type": "stream",
     "name": "stdout",
     "text": [
      "I failed\n"
     ]
    }
   ],
   "source": [
    "    \n",
    "    user_str = input(\"input your sentence:\")   \n",
    "    #user_str = \"I love you\"\n",
    "    X_user = np.array([str(user_str)])\n",
    "    print(X_user[0])"
   ]
  },
  {
   "cell_type": "code",
   "execution_count": 11,
   "metadata": {},
   "outputs": [
    {
     "output_type": "stream",
     "name": "stdout",
     "text": [
      "😂\nI failed\n"
     ]
    }
   ],
   "source": [
    "    X_user_rm = yy.corpus_pre(X_user)\n",
    "    X_user_pd,_ = kr.toknz(X_user_rm, l1,tokenizer)\n",
    "    label_user = model.predict_classes(X_user_pd)\n",
    "    print(emoji_map['emoticons'][label_user[0]])\n",
    "    print(X_user[0]) "
   ]
  },
  {
   "cell_type": "code",
   "execution_count": null,
   "metadata": {},
   "outputs": [],
   "source": []
  },
  {
   "cell_type": "code",
   "execution_count": null,
   "metadata": {},
   "outputs": [],
   "source": []
  }
 ],
 "metadata": {
  "kernelspec": {
   "display_name": "Python 3",
   "language": "python",
   "name": "python3"
  },
  "language_info": {
   "codemirror_mode": {
    "name": "ipython",
    "version": 3
   },
   "file_extension": ".py",
   "mimetype": "text/x-python",
   "name": "python",
   "nbconvert_exporter": "python",
   "pygments_lexer": "ipython3",
   "version": "3.8.3-final"
  }
 },
 "nbformat": 4,
 "nbformat_minor": 2
}