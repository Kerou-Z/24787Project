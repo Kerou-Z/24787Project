{
 "cells": [
  {
   "cell_type": "markdown",
   "metadata": {
    "colab_type": "text",
    "id": "view-in-github"
   },
   "source": [
    "<a href=\"https://colab.research.google.com/github/Sukhwinder9813/EmojiPredictionfromTweet/blob/master/EmojiPredictorfromTweets.ipynb\" target=\"_parent\"><img src=\"https://colab.research.google.com/assets/colab-badge.svg\" alt=\"Open In Colab\"/></a>"
   ]
  },
  {
   "cell_type": "code",
   "execution_count": null,
   "metadata": {
    "colab": {},
    "colab_type": "code",
    "id": "kAlEgX58utaq"
   },
   "outputs": [],
   "source": [
    "import pandas as pd\n",
    "import numpy as np\n"
   ]
  },
  {
   "cell_type": "code",
   "execution_count": null,
   "metadata": {
    "colab": {
     "base_uri": "https://localhost:8080/",
     "height": 816
    },
    "colab_type": "code",
    "id": "T3YAHQy8uyF6",
    "outputId": "46f02252-6db2-4ea8-cfd0-7be75d90fce1"
   },
   "outputs": [],
   "source": [
    "import nltk\n",
    "nltk.download('popular')"
   ]
  },
  {
   "cell_type": "code",
   "execution_count": null,
   "metadata": {
    "colab": {},
    "colab_type": "code",
    "id": "N8gQ_7rVu1MO"
   },
   "outputs": [],
   "source": [
    "!pip install emoji\n",
    "import emoji\n"
   ]
  },
  {
   "cell_type": "code",
   "execution_count": null,
   "metadata": {
    "colab": {},
    "colab_type": "code",
    "id": "13tvAmK9u2u3"
   },
   "outputs": [],
   "source": [
    "from keras.preprocessing.text import Tokenizer # https://keras.io/zh/preprocessing/text/"
   ]
  },
  {
   "cell_type": "code",
   "execution_count": null,
   "metadata": {
    "colab": {},
    "colab_type": "code",
    "id": "bx6Xigv0vQBz"
   },
   "outputs": [],
   "source": [
    "from nltk.corpus import stopwords # https://www.nltk.org/book/ch02.html 页面搜索stopwords\n"
   ]
  },
  {
   "cell_type": "code",
   "execution_count": null,
   "metadata": {
    "colab": {},
    "colab_type": "code",
    "id": "vEcGoQxlvUTt"
   },
   "outputs": [],
   "source": [
    "data=pd.read_csv('Train.csv')"
   ]
  },
  {
   "cell_type": "code",
   "execution_count": null,
   "metadata": {
    "colab": {},
    "colab_type": "code",
    "id": "qIfp3F_cvaN5"
   },
   "outputs": [],
   "source": [
    "x_train=data['TEXT'].values"
   ]
  },
  {
   "cell_type": "code",
   "execution_count": null,
   "metadata": {
    "colab": {},
    "colab_type": "code",
    "id": "gzVOlVCjvjzb"
   },
   "outputs": [],
   "source": [
    "y_train=data['Label'].values"
   ]
  },
  {
   "cell_type": "code",
   "execution_count": null,
   "metadata": {},
   "outputs": [],
   "source": [
    "stopwords.words('english')"
   ]
  },
  {
   "cell_type": "code",
   "execution_count": 10,
   "metadata": {
    "colab": {},
    "colab_type": "code",
    "id": "HCLT8jtsvn9V"
   },
   "outputs": [],
   "source": [
    "smoothtweets=[]\n",
    "stopper=set(stopwords.words('english')) # set() 生成无序不重复集 # stopwords.words() 列出无实意词（停止词）\n",
    "for tweets in x_train:\n",
    "    words=tweets.split(\" \") #以空格为分隔符 分割所有词\n",
    "    str = \"\"\n",
    "    for word in words:\n",
    "        if word[0] != \"@\" and word not in stopper: # 第一个字符不是@且不是停止词\n",
    "            if word[0] == \"#\":\n",
    "                word = word[1:] # 去除词前#\n",
    "        str += word + \" \" # 去除停止词、词前#和第一个字符是@的词 重新形成一句话\n",
    "    smoothtweets.append(str) # 将经过处理的句子放入list"
   ]
  },
  {
   "cell_type": "code",
   "execution_count": 11,
   "metadata": {
    "colab": {
     "base_uri": "https://localhost:8080/",
     "height": 34
    },
    "colab_type": "code",
    "id": "JY4h-9fJv1_e",
    "outputId": "598c2fc6-de56-4fcf-bd68-6dc43d2c7341"
   },
   "outputs": [
    {
     "output_type": "execute_result",
     "data": {
      "text/plain": [
       "'Been friends since 7th grade. Look at us now we all following our dreams doing what we love and…\\r\\n '"
      ]
     },
     "metadata": {},
     "execution_count": 11
    }
   ],
   "source": [
    "smoothtweets[2]"
   ]
  },
  {
   "cell_type": "code",
   "execution_count": null,
   "metadata": {
    "colab": {},
    "colab_type": "code",
    "id": "1NNmPguWwXQ3"
   },
   "outputs": [],
   "source": [
    "tokenizer = Tokenizer(filters='!\"#$%&()*+,-./:;<=>?@[\\\\]^_`{|}~\\t\\n', split=\" \", lower=True)\n",
    "tokenizer.fit_on_texts(smoothtweets)\n",
    "newsmoothtweets=[]\n",
    "newsmoothtweets=tokenizer.texts_to_sequences(smoothtweets)"
   ]
  },
  {
   "cell_type": "code",
   "execution_count": null,
   "metadata": {
    "colab": {
     "base_uri": "https://localhost:8080/",
     "height": 34
    },
    "colab_type": "code",
    "id": "00D6AaRhwif5",
    "outputId": "8757f3f7-6218-43a3-92ed-83e1ea51e3de"
   },
   "outputs": [],
   "source": [
    "print(newsmoothtweets[3])"
   ]
  },
  {
   "cell_type": "code",
   "execution_count": null,
   "metadata": {
    "colab": {},
    "colab_type": "code",
    "id": "oL7c1yQezR_k"
   },
   "outputs": [],
   "source": [
    "from keras.preprocessing import sequence\n",
    "X_train=sequence.pad_sequences(newsmoothtweets,maxlen=12,padding='post')"
   ]
  },
  {
   "cell_type": "code",
   "execution_count": null,
   "metadata": {
    "colab": {},
    "colab_type": "code",
    "id": "5v_aKbOV1rrz"
   },
   "outputs": [],
   "source": [
    "from keras.layers import *\n",
    "from keras.models import Sequential "
   ]
  },
  {
   "cell_type": "code",
   "execution_count": null,
   "metadata": {
    "colab": {},
    "colab_type": "code",
    "id": "HrWj-1nH1tmF"
   },
   "outputs": [],
   "source": [
    "from keras.utils import to_categorical"
   ]
  },
  {
   "cell_type": "code",
   "execution_count": null,
   "metadata": {
    "colab": {},
    "colab_type": "code",
    "id": "mOGOXpNA4D5N"
   },
   "outputs": [],
   "source": [
    "Y_train=to_categorical(y_train)"
   ]
  },
  {
   "cell_type": "code",
   "execution_count": null,
   "metadata": {
    "colab": {
     "base_uri": "https://localhost:8080/",
     "height": 34
    },
    "colab_type": "code",
    "id": "P5EixeLs4JM-",
    "outputId": "35353e64-4682-402d-b986-6bcb1f2e0c9d"
   },
   "outputs": [],
   "source": [
    "Y_train.shape"
   ]
  },
  {
   "cell_type": "code",
   "execution_count": null,
   "metadata": {
    "colab": {
     "base_uri": "https://localhost:8080/",
     "height": 34
    },
    "colab_type": "code",
    "id": "qrjrEZCg4LeZ",
    "outputId": "98685012-6b28-412b-b667-a5154ed4c8de"
   },
   "outputs": [],
   "source": [
    "X_train.shape"
   ]
  },
  {
   "cell_type": "code",
   "execution_count": null,
   "metadata": {
    "colab": {},
    "colab_type": "code",
    "id": "EGB5mMMs4UH8"
   },
   "outputs": [],
   "source": []
  },
  {
   "cell_type": "code",
   "execution_count": null,
   "metadata": {
    "colab": {},
    "colab_type": "code",
    "id": "yGFFCq63BvcV"
   },
   "outputs": [],
   "source": [
    "wordembedd={}\n",
    "f=open('glove.6B.50d.txt',\"r\",encoding='utf-8')\n",
    "for line in f:\n",
    "  words=line.split()\n",
    "  word=words[0]\n",
    "  coefs=np.asarray(words[1:],dtype='float')\n",
    "  wordembedd[word]=coefs\n",
    "f.close()"
   ]
  },
  {
   "cell_type": "code",
   "execution_count": null,
   "metadata": {
    "colab": {},
    "colab_type": "code",
    "id": "eBNTC2uGB4N5"
   },
   "outputs": [],
   "source": [
    "def populate_weight_matrix(vocab, raw_embedding):\n",
    "    # Create weight matrix from pre-trained embeddings\n",
    "    vocab_size = len(vocab) + 1\n",
    "    weight_matrix = np.zeros((vocab_size, 50))\n",
    "    for word, i in vocab.items():\n",
    "        if word in raw_embedding:\n",
    "            weight_matrix[i] = raw_embedding[word]\n",
    "    return weight_matrix"
   ]
  },
  {
   "cell_type": "code",
   "execution_count": null,
   "metadata": {
    "colab": {},
    "colab_type": "code",
    "id": "fQUFBebKDtMs"
   },
   "outputs": [],
   "source": [
    "vocab=tokenizer.word_index"
   ]
  },
  {
   "cell_type": "code",
   "execution_count": null,
   "metadata": {
    "colab": {},
    "colab_type": "code",
    "id": "usY_gQmlDvrv"
   },
   "outputs": [],
   "source": [
    "len(vocab)\n",
    "import math"
   ]
  },
  {
   "cell_type": "code",
   "execution_count": null,
   "metadata": {
    "colab": {},
    "colab_type": "code",
    "id": "-BlzRCNaDxQX"
   },
   "outputs": [],
   "source": [
    "weight_matrix=populate_weight_matrix(vocab,wordembedd)"
   ]
  },
  {
   "cell_type": "code",
   "execution_count": null,
   "metadata": {
    "colab": {
     "base_uri": "https://localhost:8080/",
     "height": 170
    },
    "colab_type": "code",
    "id": "rAT2YiKWD85D",
    "outputId": "c33b83e3-a93e-4a51-9b4a-b262287a6b2c"
   },
   "outputs": [],
   "source": [
    "weight_matrix[8]"
   ]
  },
  {
   "cell_type": "code",
   "execution_count": null,
   "metadata": {
    "colab": {},
    "colab_type": "code",
    "id": "-paysZAOEFVR"
   },
   "outputs": [],
   "source": [
    "max_length = math.ceil(sum([len(s.split(\" \")) for s in smoothtweets])/len(smoothtweets))\n",
    "vocab_size=len(vocab)+1\n",
    "model=Sequential()\n",
    "model.add(Embedding(vocab_size,50,weights=[weight_matrix],input_length=max_length+2,trainable=True,))\n",
    "model.add(LSTM(128,dropout=0.2,return_sequences=True))\n",
    "model.add(LSTM(128,dropout=0.2))\n",
    "model.add(Dense(20,activation='softmax'))\n",
    "model.compile(loss='categorical_crossentropy',optimizer='adam',metrics=['accuracy'])"
   ]
  },
  {
   "cell_type": "code",
   "execution_count": null,
   "metadata": {
    "colab": {
     "base_uri": "https://localhost:8080/",
     "height": 289
    },
    "colab_type": "code",
    "id": "68iH6akNEXZm",
    "outputId": "fd844a78-018d-448b-e4ef-d68daf14b2e1"
   },
   "outputs": [],
   "source": [
    "model.summary()"
   ]
  },
  {
   "cell_type": "code",
   "execution_count": null,
   "metadata": {
    "colab": {
     "base_uri": "https://localhost:8080/",
     "height": 275
    },
    "colab_type": "code",
    "id": "sjAxyfXjFHDX",
    "outputId": "c14d0725-85b6-43e7-98b1-bcd4855e6648"
   },
   "outputs": [],
   "source": [
    "model.fit(X_train,Y_train,epochs=5,batch_size=128,shuffle=True,validation_split=0.15)"
   ]
  },
  {
   "cell_type": "code",
   "execution_count": null,
   "metadata": {
    "colab": {
     "base_uri": "https://localhost:8080/",
     "height": 51
    },
    "colab_type": "code",
    "id": "XMfMfeZFFYFJ",
    "outputId": "745b45ac-feda-4077-cae8-15af0641246c"
   },
   "outputs": [],
   "source": [
    "model.evaluate(X_train,Y_train)"
   ]
  },
  {
   "cell_type": "code",
   "execution_count": null,
   "metadata": {
    "colab": {
     "base_uri": "https://localhost:8080/",
     "height": 34
    },
    "colab_type": "code",
    "id": "uW89zp7qLIPH",
    "outputId": "0a05d63e-7a06-442c-ea18-46e5c72cb273"
   },
   "outputs": [],
   "source": [
    "model.predict_classes(X_train[1:13])"
   ]
  },
  {
   "cell_type": "code",
   "execution_count": null,
   "metadata": {
    "colab": {
     "base_uri": "https://localhost:8080/",
     "height": 34
    },
    "colab_type": "code",
    "id": "s3swNlIBOKMl",
    "outputId": "30b17e35-e0a0-41fa-b5c1-a9a05635dd95"
   },
   "outputs": [],
   "source": [
    "smoothtweets[9]"
   ]
  },
  {
   "cell_type": "code",
   "execution_count": null,
   "metadata": {
    "colab": {},
    "colab_type": "code",
    "id": "M44ksr8uOdux"
   },
   "outputs": [],
   "source": [
    "df=pd.read_csv('Mapping.csv')"
   ]
  },
  {
   "cell_type": "code",
   "execution_count": null,
   "metadata": {
    "colab": {
     "base_uri": "https://localhost:8080/",
     "height": 669
    },
    "colab_type": "code",
    "id": "NL1_joZFOkjm",
    "outputId": "a1e22a1e-915b-4661-c6b6-8b407674139a"
   },
   "outputs": [],
   "source": [
    "df.head(20)"
   ]
  },
  {
   "cell_type": "code",
   "execution_count": null,
   "metadata": {
    "colab": {
     "base_uri": "https://localhost:8080/",
     "height": 34
    },
    "colab_type": "code",
    "id": "_kZ4aFw5OmsC",
    "outputId": "01c1a461-0231-4abb-f568-d42446ee03f9"
   },
   "outputs": [],
   "source": [
    "data['Label'][9]"
   ]
  },
  {
   "cell_type": "code",
   "execution_count": null,
   "metadata": {
    "colab": {},
    "colab_type": "code",
    "id": "RGn4ZSs7Pk5S"
   },
   "outputs": [],
   "source": [
    "df3=pd.read_csv('Test.csv')"
   ]
  },
  {
   "cell_type": "code",
   "execution_count": null,
   "metadata": {
    "colab": {
     "base_uri": "https://localhost:8080/",
     "height": 204
    },
    "colab_type": "code",
    "id": "q7o7dypwP2EX",
    "outputId": "197825c6-fae4-4287-8d0b-5b1ed1b17992"
   },
   "outputs": [],
   "source": [
    "df3.head()"
   ]
  },
  {
   "cell_type": "code",
   "execution_count": null,
   "metadata": {
    "colab": {},
    "colab_type": "code",
    "id": "x4NmqscTP32m"
   },
   "outputs": [],
   "source": [
    "xtest=df3['TEXT']\n"
   ]
  },
  {
   "cell_type": "code",
   "execution_count": null,
   "metadata": {
    "colab": {},
    "colab_type": "code",
    "id": "ZszR1hgVP998"
   },
   "outputs": [],
   "source": [
    "smoothTESTtweets=[]\n",
    "stopper=set(stopwords.words('english'))\n",
    "for tweets in xtest:\n",
    "  words=tweets.split(\" \")\n",
    "  str = \"\"\n",
    "  for word in words:\n",
    "      if word[0] != \"@\" and word not in stopper:\n",
    "          if word[0] == \"#\":\n",
    "              word = word[1:]\n",
    "          str += word + \" \"\n",
    "  smoothTESTtweets.append(str)"
   ]
  },
  {
   "cell_type": "code",
   "execution_count": null,
   "metadata": {
    "colab": {},
    "colab_type": "code",
    "id": "nUkufJK2RBR5"
   },
   "outputs": [],
   "source": [
    "newsmoothtweets=tokenizer.texts_to_sequences(smoothTESTtweets)"
   ]
  },
  {
   "cell_type": "code",
   "execution_count": null,
   "metadata": {
    "colab": {
     "base_uri": "https://localhost:8080/",
     "height": 34
    },
    "colab_type": "code",
    "id": "mxIlFe6fRMP8",
    "outputId": "8a93d10d-22ca-44bf-bdc0-ef222bebc7ea"
   },
   "outputs": [],
   "source": [
    "newsmoothtweets[2]"
   ]
  },
  {
   "cell_type": "code",
   "execution_count": null,
   "metadata": {
    "colab": {},
    "colab_type": "code",
    "id": "I5LAMTzoROui"
   },
   "outputs": [],
   "source": [
    "x_test=sequence.pad_sequences(newsmoothtweets,maxlen=12,padding='post')"
   ]
  },
  {
   "cell_type": "code",
   "execution_count": null,
   "metadata": {
    "colab": {
     "base_uri": "https://localhost:8080/",
     "height": 51
    },
    "colab_type": "code",
    "id": "MF4pWqdbRY0q",
    "outputId": "e3b9d441-3058-45e7-f760-cc20407413ac"
   },
   "outputs": [],
   "source": [
    "x_test[3]"
   ]
  },
  {
   "cell_type": "code",
   "execution_count": null,
   "metadata": {
    "colab": {},
    "colab_type": "code",
    "id": "srnw-__dRc4k"
   },
   "outputs": [],
   "source": [
    "data=model.predict_classes(x_test)\n"
   ]
  },
  {
   "cell_type": "code",
   "execution_count": null,
   "metadata": {
    "colab": {
     "base_uri": "https://localhost:8080/",
     "height": 782
    },
    "colab_type": "code",
    "id": "xZBuAGupjPbS",
    "outputId": "143d0fbf-37a0-4cbe-9e47-08f0261a8441"
   },
   "outputs": [],
   "source": [
    "for i in range(20,35,1):\n",
    "  print(df['emoticons'][data[i]])\n",
    "  print(smoothTESTtweets[i])"
   ]
  },
  {
   "cell_type": "code",
   "execution_count": null,
   "metadata": {
    "colab": {
     "base_uri": "https://localhost:8080/",
     "height": 34
    },
    "colab_type": "code",
    "id": "Um3AlDbTRi70",
    "outputId": "1b6306e6-6d4d-4152-bbea-d3c74536215d"
   },
   "outputs": [],
   "source": [
    "smoothTESTtweets[2]"
   ]
  },
  {
   "cell_type": "code",
   "execution_count": null,
   "metadata": {
    "colab": {
     "base_uri": "https://localhost:8080/",
     "height": 238
    },
    "colab_type": "code",
    "id": "KksJU8qrRsT0",
    "outputId": "8653299a-e82c-42da-ae83-3445324ba790"
   },
   "outputs": [],
   "source": [
    "xtest = [\"I love you\"]\n",
    "\n",
    "smoothTESTtweets=[]\n",
    "stopper=set(stopwords.words('english'))\n",
    "for tweets in xtest:\n",
    "  words=tweets.split(\" \")\n",
    "  str = \"\"\n",
    "  for word in words:\n",
    "      if word[0] != \"@\" and word not in stopper:\n",
    "          if word[0] == \"#\":\n",
    "              word = word[1:]\n",
    "          str += word + \" \"\n",
    "  smoothTESTtweets.append(str)\n",
    "\n",
    "newsmoothtweets=tokenizer.texts_to_sequences(smoothTESTtweets)\n",
    "\n",
    "x_test=sequence.pad_sequences(newsmoothtweets,maxlen=12,padding='post')\n",
    "data=model.predict_classes(x_test)"
   ]
  },
  {
   "cell_type": "code",
   "execution_count": null,
   "metadata": {
    "colab": {},
    "colab_type": "code",
    "id": "5Au64K86R7Xw"
   },
   "outputs": [],
   "source": [
    "print(df['emoticons'][data[0]])\n",
    "print(smoothTESTtweets[0])"
   ]
  },
  {
   "cell_type": "code",
   "execution_count": null,
   "metadata": {},
   "outputs": [],
   "source": []
  }
 ],
 "metadata": {
  "accelerator": "GPU",
  "colab": {
   "authorship_tag": "ABX9TyMh8+va2lKBaCOYCHgJ0Na+",
   "include_colab_link": true,
   "name": "EmojiPredictorfromTweets.ipynb",
   "provenance": []
  },
  "kernelspec": {
   "display_name": "Python 3",
   "language": "python",
   "name": "python3"
  },
  "language_info": {
   "codemirror_mode": {
    "name": "ipython",
    "version": 3
   },
   "file_extension": ".py",
   "mimetype": "text/x-python",
   "name": "python",
   "nbconvert_exporter": "python",
   "pygments_lexer": "ipython3",
   "version": "3.8.3-final"
  }
 },
 "nbformat": 4,
 "nbformat_minor": 1
}